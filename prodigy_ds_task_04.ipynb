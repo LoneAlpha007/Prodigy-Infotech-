{
  "metadata": {
    "kernelspec": {
      "language": "python",
      "display_name": "Python 3",
      "name": "python3"
    },
    "language_info": {
      "name": "python",
      "version": "3.10.12",
      "mimetype": "text/x-python",
      "codemirror_mode": {
        "name": "ipython",
        "version": 3
      },
      "pygments_lexer": "ipython3",
      "nbconvert_exporter": "python",
      "file_extension": ".py"
    },
    "kaggle": {
      "accelerator": "none",
      "dataSources": [
        {
          "sourceId": 7122994,
          "sourceType": "datasetVersion",
          "datasetId": 4108723
        }
      ],
      "dockerImageVersionId": 30558,
      "isInternetEnabled": false,
      "language": "python",
      "sourceType": "notebook",
      "isGpuEnabled": false
    },
    "colab": {
      "provenance": [],
      "include_colab_link": true
    }
  },
  "nbformat_minor": 0,
  "nbformat": 4,
  "cells": [
    {
      "cell_type": "markdown",
      "metadata": {
        "id": "view-in-github",
        "colab_type": "text"
      },
      "source": [
        "<a href=\"https://colab.research.google.com/github/LoneAlpha007/Prodigy-Infotech-/blob/main/prodigy_ds_task_04.ipynb\" target=\"_parent\"><img src=\"https://colab.research.google.com/assets/colab-badge.svg\" alt=\"Open In Colab\"/></a>"
      ]
    },
    {
      "cell_type": "markdown",
      "source": [
        "# Import Needed Modules"
      ],
      "metadata": {
        "id": "krFWK_sF6WX8"
      }
    },
    {
      "cell_type": "code",
      "source": [
        "import numpy as np\n",
        "import pandas as pd\n",
        "\n",
        "from sklearn.model_selection import train_test_split\n",
        "from sklearn.feature_extraction.text import TfidfVectorizer\n",
        "from sklearn.preprocessing import LabelEncoder\n",
        "from sklearn.pipeline import Pipeline\n",
        "from sklearn.naive_bayes import MultinomialNB\n",
        "from sklearn.ensemble import RandomForestClassifier\n",
        "from sklearn.metrics import accuracy_score, classification_report\n",
        "\n",
        "import spacy"
      ],
      "metadata": {
        "execution": {
          "iopub.status.busy": "2023-12-04T17:05:17.330262Z",
          "iopub.execute_input": "2023-12-04T17:05:17.330781Z",
          "iopub.status.idle": "2023-12-04T17:05:34.356850Z",
          "shell.execute_reply.started": "2023-12-04T17:05:17.330740Z",
          "shell.execute_reply": "2023-12-04T17:05:34.355618Z"
        },
        "trusted": true,
        "id": "sFNrrOYA6WYA"
      },
      "execution_count": null,
      "outputs": []
    },
    {
      "cell_type": "code",
      "source": [
        "columns = ['id','country','Label','Text']\n",
        "df = pd.read_csv(\"/kaggle/input/twitter-analysis/twitter_training.csv\",names=columns)\n",
        "\n",
        "print(df.shape)\n",
        "\n",
        "df.head(5)"
      ],
      "metadata": {
        "execution": {
          "iopub.status.busy": "2023-12-04T17:12:01.838379Z",
          "iopub.execute_input": "2023-12-04T17:12:01.838840Z",
          "iopub.status.idle": "2023-12-04T17:12:02.278080Z",
          "shell.execute_reply.started": "2023-12-04T17:12:01.838805Z",
          "shell.execute_reply": "2023-12-04T17:12:02.276968Z"
        },
        "trusted": true,
        "id": "Metu84fS6WYC",
        "outputId": "ff6be6c7-5bcd-41ff-a421-0d6bc7d81b6f"
      },
      "execution_count": null,
      "outputs": [
        {
          "name": "stdout",
          "text": "(74682, 4)\n",
          "output_type": "stream"
        },
        {
          "execution_count": 9,
          "output_type": "execute_result",
          "data": {
            "text/plain": "     id      country     Label  \\\n0  2401  Borderlands  Positive   \n1  2401  Borderlands  Positive   \n2  2401  Borderlands  Positive   \n3  2401  Borderlands  Positive   \n4  2401  Borderlands  Positive   \n\n                                                Text  \n0  im getting on borderlands and i will murder yo...  \n1  I am coming to the borders and I will kill you...  \n2  im getting on borderlands and i will kill you ...  \n3  im coming on borderlands and i will murder you...  \n4  im getting on borderlands 2 and i will murder ...  ",
            "text/html": "<div>\n<style scoped>\n    .dataframe tbody tr th:only-of-type {\n        vertical-align: middle;\n    }\n\n    .dataframe tbody tr th {\n        vertical-align: top;\n    }\n\n    .dataframe thead th {\n        text-align: right;\n    }\n</style>\n<table border=\"1\" class=\"dataframe\">\n  <thead>\n    <tr style=\"text-align: right;\">\n      <th></th>\n      <th>id</th>\n      <th>country</th>\n      <th>Label</th>\n      <th>Text</th>\n    </tr>\n  </thead>\n  <tbody>\n    <tr>\n      <th>0</th>\n      <td>2401</td>\n      <td>Borderlands</td>\n      <td>Positive</td>\n      <td>im getting on borderlands and i will murder yo...</td>\n    </tr>\n    <tr>\n      <th>1</th>\n      <td>2401</td>\n      <td>Borderlands</td>\n      <td>Positive</td>\n      <td>I am coming to the borders and I will kill you...</td>\n    </tr>\n    <tr>\n      <th>2</th>\n      <td>2401</td>\n      <td>Borderlands</td>\n      <td>Positive</td>\n      <td>im getting on borderlands and i will kill you ...</td>\n    </tr>\n    <tr>\n      <th>3</th>\n      <td>2401</td>\n      <td>Borderlands</td>\n      <td>Positive</td>\n      <td>im coming on borderlands and i will murder you...</td>\n    </tr>\n    <tr>\n      <th>4</th>\n      <td>2401</td>\n      <td>Borderlands</td>\n      <td>Positive</td>\n      <td>im getting on borderlands 2 and i will murder ...</td>\n    </tr>\n  </tbody>\n</table>\n</div>"
          },
          "metadata": {}
        }
      ]
    },
    {
      "cell_type": "code",
      "source": [
        "df.info()"
      ],
      "metadata": {
        "execution": {
          "iopub.status.busy": "2023-12-04T17:12:12.800886Z",
          "iopub.execute_input": "2023-12-04T17:12:12.801397Z",
          "iopub.status.idle": "2023-12-04T17:12:12.866718Z",
          "shell.execute_reply.started": "2023-12-04T17:12:12.801360Z",
          "shell.execute_reply": "2023-12-04T17:12:12.865501Z"
        },
        "trusted": true,
        "id": "syxGGZX-6WYD",
        "outputId": "738536ed-f72f-48b8-fb19-a51adf62f2d0"
      },
      "execution_count": null,
      "outputs": [
        {
          "name": "stdout",
          "text": "<class 'pandas.core.frame.DataFrame'>\nRangeIndex: 74682 entries, 0 to 74681\nData columns (total 4 columns):\n #   Column   Non-Null Count  Dtype \n---  ------   --------------  ----- \n 0   id       74682 non-null  int64 \n 1   country  74682 non-null  object\n 2   Label    74682 non-null  object\n 3   Text     73996 non-null  object\ndtypes: int64(1), object(3)\nmemory usage: 2.3+ MB\n",
          "output_type": "stream"
        }
      ]
    },
    {
      "cell_type": "code",
      "source": [
        "df['Label'].value_counts()"
      ],
      "metadata": {
        "execution": {
          "iopub.status.busy": "2023-12-04T17:13:46.678853Z",
          "iopub.execute_input": "2023-12-04T17:13:46.679305Z",
          "iopub.status.idle": "2023-12-04T17:13:46.700460Z",
          "shell.execute_reply.started": "2023-12-04T17:13:46.679272Z",
          "shell.execute_reply": "2023-12-04T17:13:46.699263Z"
        },
        "trusted": true,
        "id": "qGfM2hFI6WYD",
        "outputId": "10d03968-16ae-4a60-ed84-33187b283b71"
      },
      "execution_count": null,
      "outputs": [
        {
          "execution_count": 16,
          "output_type": "execute_result",
          "data": {
            "text/plain": "Label\nNegative      22358\nPositive      20655\nNeutral       18108\nIrrelevant    12875\nName: count, dtype: int64"
          },
          "metadata": {}
        }
      ]
    },
    {
      "cell_type": "code",
      "source": [
        "for i in range(5):\n",
        "    print(f\"{i+1}: {df['Text'][i]} -> {df['Label'][i]}\")"
      ],
      "metadata": {
        "execution": {
          "iopub.status.busy": "2023-12-04T17:13:30.059161Z",
          "iopub.execute_input": "2023-12-04T17:13:30.059699Z",
          "iopub.status.idle": "2023-12-04T17:13:30.069573Z",
          "shell.execute_reply.started": "2023-12-04T17:13:30.059657Z",
          "shell.execute_reply": "2023-12-04T17:13:30.068235Z"
        },
        "trusted": true,
        "id": "5XLuyuju6WYE",
        "outputId": "9fe0eae7-f2f2-446f-b647-05e050457e26"
      },
      "execution_count": null,
      "outputs": [
        {
          "name": "stdout",
          "text": "1: im getting on borderlands and i will murder you all , -> Positive\n2: I am coming to the borders and I will kill you all, -> Positive\n3: im getting on borderlands and i will kill you all, -> Positive\n4: im coming on borderlands and i will murder you all, -> Positive\n5: im getting on borderlands 2 and i will murder you me all, -> Positive\n",
          "output_type": "stream"
        }
      ]
    },
    {
      "cell_type": "code",
      "source": [
        "df.dropna(inplace=True)"
      ],
      "metadata": {
        "execution": {
          "iopub.status.busy": "2023-12-04T17:13:01.445999Z",
          "iopub.execute_input": "2023-12-04T17:13:01.446467Z",
          "iopub.status.idle": "2023-12-04T17:13:01.492329Z",
          "shell.execute_reply.started": "2023-12-04T17:13:01.446432Z",
          "shell.execute_reply": "2023-12-04T17:13:01.490967Z"
        },
        "trusted": true,
        "id": "W0DCZeDf6WYE"
      },
      "execution_count": null,
      "outputs": []
    },
    {
      "cell_type": "code",
      "source": [
        "nlp = spacy.load(\"en_core_web_sm\")"
      ],
      "metadata": {
        "execution": {
          "iopub.status.busy": "2023-12-04T17:14:00.971122Z",
          "iopub.execute_input": "2023-12-04T17:14:00.971712Z",
          "iopub.status.idle": "2023-12-04T17:14:02.265447Z",
          "shell.execute_reply.started": "2023-12-04T17:14:00.971660Z",
          "shell.execute_reply": "2023-12-04T17:14:02.264422Z"
        },
        "trusted": true,
        "id": "D8SLmDM56WYE"
      },
      "execution_count": null,
      "outputs": []
    },
    {
      "cell_type": "code",
      "source": [
        "def preprocess(text):\n",
        "    doc = nlp(text)\n",
        "    filtered_tokens = []\n",
        "    for token in doc:\n",
        "        if token.is_stop or token.is_punct:\n",
        "            continue\n",
        "        filtered_tokens.append(token.lemma_)\n",
        "\n",
        "    return \" \".join(filtered_tokens)"
      ],
      "metadata": {
        "execution": {
          "iopub.status.busy": "2023-12-04T17:14:31.055304Z",
          "iopub.execute_input": "2023-12-04T17:14:31.055738Z",
          "iopub.status.idle": "2023-12-04T17:14:31.062855Z",
          "shell.execute_reply.started": "2023-12-04T17:14:31.055695Z",
          "shell.execute_reply": "2023-12-04T17:14:31.061471Z"
        },
        "trusted": true,
        "id": "y1tEso886WYE"
      },
      "execution_count": null,
      "outputs": []
    },
    {
      "cell_type": "code",
      "source": [
        "df['Preprocessed Text'] = df['Text'].apply(preprocess)"
      ],
      "metadata": {
        "execution": {
          "iopub.status.busy": "2023-12-04T17:16:19.691935Z",
          "iopub.execute_input": "2023-12-04T17:16:19.692398Z",
          "iopub.status.idle": "2023-12-04T17:28:41.490913Z",
          "shell.execute_reply.started": "2023-12-04T17:16:19.692362Z",
          "shell.execute_reply": "2023-12-04T17:28:41.489483Z"
        },
        "trusted": true,
        "id": "S0xkZPQj6WYF"
      },
      "execution_count": null,
      "outputs": []
    },
    {
      "cell_type": "code",
      "source": [
        "df"
      ],
      "metadata": {
        "execution": {
          "iopub.status.busy": "2023-12-04T17:28:52.537249Z",
          "iopub.execute_input": "2023-12-04T17:28:52.537657Z",
          "iopub.status.idle": "2023-12-04T17:28:52.553390Z",
          "shell.execute_reply.started": "2023-12-04T17:28:52.537605Z",
          "shell.execute_reply": "2023-12-04T17:28:52.552438Z"
        },
        "trusted": true,
        "id": "-PbISWD06WYF",
        "outputId": "f319c5ed-fc41-4eae-fd41-be69e48a2132"
      },
      "execution_count": null,
      "outputs": [
        {
          "execution_count": 23,
          "output_type": "execute_result",
          "data": {
            "text/plain": "         id      country     Label  \\\n0      2401  Borderlands  Positive   \n1      2401  Borderlands  Positive   \n2      2401  Borderlands  Positive   \n3      2401  Borderlands  Positive   \n4      2401  Borderlands  Positive   \n...     ...          ...       ...   \n74677  9200       Nvidia  Positive   \n74678  9200       Nvidia  Positive   \n74679  9200       Nvidia  Positive   \n74680  9200       Nvidia  Positive   \n74681  9200       Nvidia  Positive   \n\n                                                    Text  \\\n0      im getting on borderlands and i will murder yo...   \n1      I am coming to the borders and I will kill you...   \n2      im getting on borderlands and i will kill you ...   \n3      im coming on borderlands and i will murder you...   \n4      im getting on borderlands 2 and i will murder ...   \n...                                                  ...   \n74677  Just realized that the Windows partition of my...   \n74678  Just realized that my Mac window partition is ...   \n74679  Just realized the windows partition of my Mac ...   \n74680  Just realized between the windows partition of...   \n74681  Just like the windows partition of my Mac is l...   \n\n                                       Preprocessed Text  \n0                                m get borderland murder  \n1                                       come border kill  \n2                                  m get borderland kill  \n3                               m come borderland murder  \n4                              m get borderland 2 murder  \n...                                                  ...  \n74677  realize Windows partition Mac like 6 year Nvid...  \n74678  realize Mac window partition 6 year Nvidia dri...  \n74679  realize window partition Mac 6 year Nvidia dri...  \n74680  realize window partition Mac like 6 year Nvidi...  \n74681  like window partition Mac like 6 year driver i...  \n\n[73996 rows x 5 columns]",
            "text/html": "<div>\n<style scoped>\n    .dataframe tbody tr th:only-of-type {\n        vertical-align: middle;\n    }\n\n    .dataframe tbody tr th {\n        vertical-align: top;\n    }\n\n    .dataframe thead th {\n        text-align: right;\n    }\n</style>\n<table border=\"1\" class=\"dataframe\">\n  <thead>\n    <tr style=\"text-align: right;\">\n      <th></th>\n      <th>id</th>\n      <th>country</th>\n      <th>Label</th>\n      <th>Text</th>\n      <th>Preprocessed Text</th>\n    </tr>\n  </thead>\n  <tbody>\n    <tr>\n      <th>0</th>\n      <td>2401</td>\n      <td>Borderlands</td>\n      <td>Positive</td>\n      <td>im getting on borderlands and i will murder yo...</td>\n      <td>m get borderland murder</td>\n    </tr>\n    <tr>\n      <th>1</th>\n      <td>2401</td>\n      <td>Borderlands</td>\n      <td>Positive</td>\n      <td>I am coming to the borders and I will kill you...</td>\n      <td>come border kill</td>\n    </tr>\n    <tr>\n      <th>2</th>\n      <td>2401</td>\n      <td>Borderlands</td>\n      <td>Positive</td>\n      <td>im getting on borderlands and i will kill you ...</td>\n      <td>m get borderland kill</td>\n    </tr>\n    <tr>\n      <th>3</th>\n      <td>2401</td>\n      <td>Borderlands</td>\n      <td>Positive</td>\n      <td>im coming on borderlands and i will murder you...</td>\n      <td>m come borderland murder</td>\n    </tr>\n    <tr>\n      <th>4</th>\n      <td>2401</td>\n      <td>Borderlands</td>\n      <td>Positive</td>\n      <td>im getting on borderlands 2 and i will murder ...</td>\n      <td>m get borderland 2 murder</td>\n    </tr>\n    <tr>\n      <th>...</th>\n      <td>...</td>\n      <td>...</td>\n      <td>...</td>\n      <td>...</td>\n      <td>...</td>\n    </tr>\n    <tr>\n      <th>74677</th>\n      <td>9200</td>\n      <td>Nvidia</td>\n      <td>Positive</td>\n      <td>Just realized that the Windows partition of my...</td>\n      <td>realize Windows partition Mac like 6 year Nvid...</td>\n    </tr>\n    <tr>\n      <th>74678</th>\n      <td>9200</td>\n      <td>Nvidia</td>\n      <td>Positive</td>\n      <td>Just realized that my Mac window partition is ...</td>\n      <td>realize Mac window partition 6 year Nvidia dri...</td>\n    </tr>\n    <tr>\n      <th>74679</th>\n      <td>9200</td>\n      <td>Nvidia</td>\n      <td>Positive</td>\n      <td>Just realized the windows partition of my Mac ...</td>\n      <td>realize window partition Mac 6 year Nvidia dri...</td>\n    </tr>\n    <tr>\n      <th>74680</th>\n      <td>9200</td>\n      <td>Nvidia</td>\n      <td>Positive</td>\n      <td>Just realized between the windows partition of...</td>\n      <td>realize window partition Mac like 6 year Nvidi...</td>\n    </tr>\n    <tr>\n      <th>74681</th>\n      <td>9200</td>\n      <td>Nvidia</td>\n      <td>Positive</td>\n      <td>Just like the windows partition of my Mac is l...</td>\n      <td>like window partition Mac like 6 year driver i...</td>\n    </tr>\n  </tbody>\n</table>\n<p>73996 rows × 5 columns</p>\n</div>"
          },
          "metadata": {}
        }
      ]
    },
    {
      "cell_type": "code",
      "source": [
        "le_model = LabelEncoder()\n",
        "df['Label'] = le_model.fit_transform(df['Label'])"
      ],
      "metadata": {
        "execution": {
          "iopub.status.busy": "2023-12-04T17:29:51.667577Z",
          "iopub.execute_input": "2023-12-04T17:29:51.668048Z",
          "iopub.status.idle": "2023-12-04T17:29:51.700016Z",
          "shell.execute_reply.started": "2023-12-04T17:29:51.668014Z",
          "shell.execute_reply": "2023-12-04T17:29:51.698283Z"
        },
        "trusted": true,
        "id": "8hUsTrU56WYF"
      },
      "execution_count": null,
      "outputs": []
    },
    {
      "cell_type": "code",
      "source": [
        "df.head(5)"
      ],
      "metadata": {
        "execution": {
          "iopub.status.busy": "2023-12-04T17:30:01.979634Z",
          "iopub.execute_input": "2023-12-04T17:30:01.980085Z",
          "iopub.status.idle": "2023-12-04T17:30:01.994742Z",
          "shell.execute_reply.started": "2023-12-04T17:30:01.980054Z",
          "shell.execute_reply": "2023-12-04T17:30:01.993725Z"
        },
        "trusted": true,
        "id": "I3OneL6Q6WYG",
        "outputId": "4fed0d6a-c730-4d0a-f2c7-cde8448703da"
      },
      "execution_count": null,
      "outputs": [
        {
          "execution_count": 25,
          "output_type": "execute_result",
          "data": {
            "text/plain": "     id      country  Label  \\\n0  2401  Borderlands      3   \n1  2401  Borderlands      3   \n2  2401  Borderlands      3   \n3  2401  Borderlands      3   \n4  2401  Borderlands      3   \n\n                                                Text  \\\n0  im getting on borderlands and i will murder yo...   \n1  I am coming to the borders and I will kill you...   \n2  im getting on borderlands and i will kill you ...   \n3  im coming on borderlands and i will murder you...   \n4  im getting on borderlands 2 and i will murder ...   \n\n           Preprocessed Text  \n0    m get borderland murder  \n1           come border kill  \n2      m get borderland kill  \n3   m come borderland murder  \n4  m get borderland 2 murder  ",
            "text/html": "<div>\n<style scoped>\n    .dataframe tbody tr th:only-of-type {\n        vertical-align: middle;\n    }\n\n    .dataframe tbody tr th {\n        vertical-align: top;\n    }\n\n    .dataframe thead th {\n        text-align: right;\n    }\n</style>\n<table border=\"1\" class=\"dataframe\">\n  <thead>\n    <tr style=\"text-align: right;\">\n      <th></th>\n      <th>id</th>\n      <th>country</th>\n      <th>Label</th>\n      <th>Text</th>\n      <th>Preprocessed Text</th>\n    </tr>\n  </thead>\n  <tbody>\n    <tr>\n      <th>0</th>\n      <td>2401</td>\n      <td>Borderlands</td>\n      <td>3</td>\n      <td>im getting on borderlands and i will murder yo...</td>\n      <td>m get borderland murder</td>\n    </tr>\n    <tr>\n      <th>1</th>\n      <td>2401</td>\n      <td>Borderlands</td>\n      <td>3</td>\n      <td>I am coming to the borders and I will kill you...</td>\n      <td>come border kill</td>\n    </tr>\n    <tr>\n      <th>2</th>\n      <td>2401</td>\n      <td>Borderlands</td>\n      <td>3</td>\n      <td>im getting on borderlands and i will kill you ...</td>\n      <td>m get borderland kill</td>\n    </tr>\n    <tr>\n      <th>3</th>\n      <td>2401</td>\n      <td>Borderlands</td>\n      <td>3</td>\n      <td>im coming on borderlands and i will murder you...</td>\n      <td>m come borderland murder</td>\n    </tr>\n    <tr>\n      <th>4</th>\n      <td>2401</td>\n      <td>Borderlands</td>\n      <td>3</td>\n      <td>im getting on borderlands 2 and i will murder ...</td>\n      <td>m get borderland 2 murder</td>\n    </tr>\n  </tbody>\n</table>\n</div>"
          },
          "metadata": {}
        }
      ]
    },
    {
      "cell_type": "code",
      "source": [
        "X_train, X_test, y_train, y_test = train_test_split(df['Preprocessed Text'], df['Label'],\n",
        "                                                    test_size=0.2, random_state=42, stratify=df['Label'])"
      ],
      "metadata": {
        "execution": {
          "iopub.status.busy": "2023-12-04T17:30:13.970248Z",
          "iopub.execute_input": "2023-12-04T17:30:13.970759Z",
          "iopub.status.idle": "2023-12-04T17:30:14.030130Z",
          "shell.execute_reply.started": "2023-12-04T17:30:13.970721Z",
          "shell.execute_reply": "2023-12-04T17:30:14.028990Z"
        },
        "trusted": true,
        "id": "a5CRi2GL6WYG"
      },
      "execution_count": null,
      "outputs": []
    },
    {
      "cell_type": "code",
      "source": [
        "print(\"Shape of X_train: \", X_train.shape)\n",
        "print(\"Shape of X_test: \", X_test.shape)"
      ],
      "metadata": {
        "execution": {
          "iopub.status.busy": "2023-12-04T17:30:19.311550Z",
          "iopub.execute_input": "2023-12-04T17:30:19.311998Z",
          "iopub.status.idle": "2023-12-04T17:30:19.318003Z",
          "shell.execute_reply.started": "2023-12-04T17:30:19.311965Z",
          "shell.execute_reply": "2023-12-04T17:30:19.316886Z"
        },
        "trusted": true,
        "id": "3NIUY3T06WYG",
        "outputId": "d1d0af78-7f5c-4f20-f200-f35d922ed461"
      },
      "execution_count": null,
      "outputs": [
        {
          "name": "stdout",
          "text": "Shape of X_train:  (59196,)\nShape of X_test:  (14800,)\n",
          "output_type": "stream"
        }
      ]
    },
    {
      "cell_type": "code",
      "source": [
        "clf = Pipeline([\n",
        "    ('vectorizer_tri_grams', TfidfVectorizer()),\n",
        "    ('naive_bayes', (MultinomialNB()))\n",
        "])"
      ],
      "metadata": {
        "execution": {
          "iopub.status.busy": "2023-12-04T17:30:45.499279Z",
          "iopub.execute_input": "2023-12-04T17:30:45.499703Z",
          "iopub.status.idle": "2023-12-04T17:30:45.505494Z",
          "shell.execute_reply.started": "2023-12-04T17:30:45.499672Z",
          "shell.execute_reply": "2023-12-04T17:30:45.504208Z"
        },
        "trusted": true,
        "id": "LvpxlLKW6WYH"
      },
      "execution_count": null,
      "outputs": []
    },
    {
      "cell_type": "code",
      "source": [
        "clf.fit(X_train, y_train)"
      ],
      "metadata": {
        "execution": {
          "iopub.status.busy": "2023-12-04T17:30:52.717204Z",
          "iopub.execute_input": "2023-12-04T17:30:52.717611Z",
          "iopub.status.idle": "2023-12-04T17:30:53.992879Z",
          "shell.execute_reply.started": "2023-12-04T17:30:52.717578Z",
          "shell.execute_reply": "2023-12-04T17:30:53.991719Z"
        },
        "trusted": true,
        "id": "CkTl8sCE6WYH",
        "outputId": "139266d6-7c5b-4e8e-d5dd-9c065e2728e9"
      },
      "execution_count": null,
      "outputs": [
        {
          "execution_count": 29,
          "output_type": "execute_result",
          "data": {
            "text/plain": "Pipeline(steps=[('vectorizer_tri_grams', TfidfVectorizer()),\n                ('naive_bayes', MultinomialNB())])",
            "text/html": "<style>#sk-container-id-1 {color: black;background-color: white;}#sk-container-id-1 pre{padding: 0;}#sk-container-id-1 div.sk-toggleable {background-color: white;}#sk-container-id-1 label.sk-toggleable__label {cursor: pointer;display: block;width: 100%;margin-bottom: 0;padding: 0.3em;box-sizing: border-box;text-align: center;}#sk-container-id-1 label.sk-toggleable__label-arrow:before {content: \"▸\";float: left;margin-right: 0.25em;color: #696969;}#sk-container-id-1 label.sk-toggleable__label-arrow:hover:before {color: black;}#sk-container-id-1 div.sk-estimator:hover label.sk-toggleable__label-arrow:before {color: black;}#sk-container-id-1 div.sk-toggleable__content {max-height: 0;max-width: 0;overflow: hidden;text-align: left;background-color: #f0f8ff;}#sk-container-id-1 div.sk-toggleable__content pre {margin: 0.2em;color: black;border-radius: 0.25em;background-color: #f0f8ff;}#sk-container-id-1 input.sk-toggleable__control:checked~div.sk-toggleable__content {max-height: 200px;max-width: 100%;overflow: auto;}#sk-container-id-1 input.sk-toggleable__control:checked~label.sk-toggleable__label-arrow:before {content: \"▾\";}#sk-container-id-1 div.sk-estimator input.sk-toggleable__control:checked~label.sk-toggleable__label {background-color: #d4ebff;}#sk-container-id-1 div.sk-label input.sk-toggleable__control:checked~label.sk-toggleable__label {background-color: #d4ebff;}#sk-container-id-1 input.sk-hidden--visually {border: 0;clip: rect(1px 1px 1px 1px);clip: rect(1px, 1px, 1px, 1px);height: 1px;margin: -1px;overflow: hidden;padding: 0;position: absolute;width: 1px;}#sk-container-id-1 div.sk-estimator {font-family: monospace;background-color: #f0f8ff;border: 1px dotted black;border-radius: 0.25em;box-sizing: border-box;margin-bottom: 0.5em;}#sk-container-id-1 div.sk-estimator:hover {background-color: #d4ebff;}#sk-container-id-1 div.sk-parallel-item::after {content: \"\";width: 100%;border-bottom: 1px solid gray;flex-grow: 1;}#sk-container-id-1 div.sk-label:hover label.sk-toggleable__label {background-color: #d4ebff;}#sk-container-id-1 div.sk-serial::before {content: \"\";position: absolute;border-left: 1px solid gray;box-sizing: border-box;top: 0;bottom: 0;left: 50%;z-index: 0;}#sk-container-id-1 div.sk-serial {display: flex;flex-direction: column;align-items: center;background-color: white;padding-right: 0.2em;padding-left: 0.2em;position: relative;}#sk-container-id-1 div.sk-item {position: relative;z-index: 1;}#sk-container-id-1 div.sk-parallel {display: flex;align-items: stretch;justify-content: center;background-color: white;position: relative;}#sk-container-id-1 div.sk-item::before, #sk-container-id-1 div.sk-parallel-item::before {content: \"\";position: absolute;border-left: 1px solid gray;box-sizing: border-box;top: 0;bottom: 0;left: 50%;z-index: -1;}#sk-container-id-1 div.sk-parallel-item {display: flex;flex-direction: column;z-index: 1;position: relative;background-color: white;}#sk-container-id-1 div.sk-parallel-item:first-child::after {align-self: flex-end;width: 50%;}#sk-container-id-1 div.sk-parallel-item:last-child::after {align-self: flex-start;width: 50%;}#sk-container-id-1 div.sk-parallel-item:only-child::after {width: 0;}#sk-container-id-1 div.sk-dashed-wrapped {border: 1px dashed gray;margin: 0 0.4em 0.5em 0.4em;box-sizing: border-box;padding-bottom: 0.4em;background-color: white;}#sk-container-id-1 div.sk-label label {font-family: monospace;font-weight: bold;display: inline-block;line-height: 1.2em;}#sk-container-id-1 div.sk-label-container {text-align: center;}#sk-container-id-1 div.sk-container {/* jupyter's `normalize.less` sets `[hidden] { display: none; }` but bootstrap.min.css set `[hidden] { display: none !important; }` so we also need the `!important` here to be able to override the default hidden behavior on the sphinx rendered scikit-learn.org. See: https://github.com/scikit-learn/scikit-learn/issues/21755 */display: inline-block !important;position: relative;}#sk-container-id-1 div.sk-text-repr-fallback {display: none;}</style><div id=\"sk-container-id-1\" class=\"sk-top-container\"><div class=\"sk-text-repr-fallback\"><pre>Pipeline(steps=[(&#x27;vectorizer_tri_grams&#x27;, TfidfVectorizer()),\n                (&#x27;naive_bayes&#x27;, MultinomialNB())])</pre><b>In a Jupyter environment, please rerun this cell to show the HTML representation or trust the notebook. <br />On GitHub, the HTML representation is unable to render, please try loading this page with nbviewer.org.</b></div><div class=\"sk-container\" hidden><div class=\"sk-item sk-dashed-wrapped\"><div class=\"sk-label-container\"><div class=\"sk-label sk-toggleable\"><input class=\"sk-toggleable__control sk-hidden--visually\" id=\"sk-estimator-id-1\" type=\"checkbox\" ><label for=\"sk-estimator-id-1\" class=\"sk-toggleable__label sk-toggleable__label-arrow\">Pipeline</label><div class=\"sk-toggleable__content\"><pre>Pipeline(steps=[(&#x27;vectorizer_tri_grams&#x27;, TfidfVectorizer()),\n                (&#x27;naive_bayes&#x27;, MultinomialNB())])</pre></div></div></div><div class=\"sk-serial\"><div class=\"sk-item\"><div class=\"sk-estimator sk-toggleable\"><input class=\"sk-toggleable__control sk-hidden--visually\" id=\"sk-estimator-id-2\" type=\"checkbox\" ><label for=\"sk-estimator-id-2\" class=\"sk-toggleable__label sk-toggleable__label-arrow\">TfidfVectorizer</label><div class=\"sk-toggleable__content\"><pre>TfidfVectorizer()</pre></div></div></div><div class=\"sk-item\"><div class=\"sk-estimator sk-toggleable\"><input class=\"sk-toggleable__control sk-hidden--visually\" id=\"sk-estimator-id-3\" type=\"checkbox\" ><label for=\"sk-estimator-id-3\" class=\"sk-toggleable__label sk-toggleable__label-arrow\">MultinomialNB</label><div class=\"sk-toggleable__content\"><pre>MultinomialNB()</pre></div></div></div></div></div></div></div>"
          },
          "metadata": {}
        }
      ]
    },
    {
      "cell_type": "code",
      "source": [
        "y_pred = clf.predict(X_test)"
      ],
      "metadata": {
        "execution": {
          "iopub.status.busy": "2023-12-04T17:31:10.016707Z",
          "iopub.execute_input": "2023-12-04T17:31:10.017151Z",
          "iopub.status.idle": "2023-12-04T17:31:10.309213Z",
          "shell.execute_reply.started": "2023-12-04T17:31:10.017115Z",
          "shell.execute_reply": "2023-12-04T17:31:10.308225Z"
        },
        "trusted": true,
        "id": "Ap1r6BoF6WYH"
      },
      "execution_count": null,
      "outputs": []
    },
    {
      "cell_type": "code",
      "source": [
        "print(accuracy_score(y_test, y_pred))"
      ],
      "metadata": {
        "execution": {
          "iopub.status.busy": "2023-12-04T17:31:21.921557Z",
          "iopub.execute_input": "2023-12-04T17:31:21.922037Z",
          "iopub.status.idle": "2023-12-04T17:31:21.932544Z",
          "shell.execute_reply.started": "2023-12-04T17:31:21.921989Z",
          "shell.execute_reply": "2023-12-04T17:31:21.931041Z"
        },
        "trusted": true,
        "id": "-WoLiXhQ6WYH",
        "outputId": "fc507911-b6b9-4879-f9aa-8c05e35be004"
      },
      "execution_count": null,
      "outputs": [
        {
          "name": "stdout",
          "text": "0.7310135135135135\n",
          "output_type": "stream"
        }
      ]
    },
    {
      "cell_type": "code",
      "source": [
        "print(classification_report(y_test, y_pred))"
      ],
      "metadata": {
        "execution": {
          "iopub.status.busy": "2023-12-04T17:31:34.979373Z",
          "iopub.execute_input": "2023-12-04T17:31:34.979845Z",
          "iopub.status.idle": "2023-12-04T17:31:35.022340Z",
          "shell.execute_reply.started": "2023-12-04T17:31:34.979810Z",
          "shell.execute_reply": "2023-12-04T17:31:35.020937Z"
        },
        "trusted": true,
        "id": "6mnUdbzH6WYI",
        "outputId": "e8f9095b-2b97-4d7f-d599-1bf209d8a436"
      },
      "execution_count": null,
      "outputs": [
        {
          "name": "stdout",
          "text": "              precision    recall  f1-score   support\n\n           0       0.95      0.46      0.62      2575\n           1       0.65      0.89      0.76      4472\n           2       0.84      0.63      0.72      3622\n           3       0.71      0.81      0.76      4131\n\n    accuracy                           0.73     14800\n   macro avg       0.79      0.70      0.71     14800\nweighted avg       0.77      0.73      0.72     14800\n\n",
          "output_type": "stream"
        }
      ]
    },
    {
      "cell_type": "code",
      "source": [
        "clf = Pipeline([\n",
        "    ('vectorizer_tri_grams', TfidfVectorizer()),\n",
        "    ('naive_bayes', (RandomForestClassifier()))\n",
        "])"
      ],
      "metadata": {
        "execution": {
          "iopub.status.busy": "2023-12-04T17:31:52.283892Z",
          "iopub.execute_input": "2023-12-04T17:31:52.284326Z",
          "iopub.status.idle": "2023-12-04T17:31:52.290467Z",
          "shell.execute_reply.started": "2023-12-04T17:31:52.284295Z",
          "shell.execute_reply": "2023-12-04T17:31:52.289154Z"
        },
        "trusted": true,
        "id": "Y_UXobGd6WYI"
      },
      "execution_count": null,
      "outputs": []
    },
    {
      "cell_type": "code",
      "source": [
        "clf.fit(X_train, y_train)"
      ],
      "metadata": {
        "execution": {
          "iopub.status.busy": "2023-12-04T17:31:56.860277Z",
          "iopub.execute_input": "2023-12-04T17:31:56.860722Z",
          "iopub.status.idle": "2023-12-04T17:35:47.966633Z",
          "shell.execute_reply.started": "2023-12-04T17:31:56.860671Z",
          "shell.execute_reply": "2023-12-04T17:35:47.965398Z"
        },
        "trusted": true,
        "id": "1e6BIqUG6WYI",
        "outputId": "7d5dd7bc-ac1a-4e52-f196-06ed1df98ddd"
      },
      "execution_count": null,
      "outputs": [
        {
          "execution_count": 34,
          "output_type": "execute_result",
          "data": {
            "text/plain": "Pipeline(steps=[('vectorizer_tri_grams', TfidfVectorizer()),\n                ('naive_bayes', RandomForestClassifier())])",
            "text/html": "<style>#sk-container-id-2 {color: black;background-color: white;}#sk-container-id-2 pre{padding: 0;}#sk-container-id-2 div.sk-toggleable {background-color: white;}#sk-container-id-2 label.sk-toggleable__label {cursor: pointer;display: block;width: 100%;margin-bottom: 0;padding: 0.3em;box-sizing: border-box;text-align: center;}#sk-container-id-2 label.sk-toggleable__label-arrow:before {content: \"▸\";float: left;margin-right: 0.25em;color: #696969;}#sk-container-id-2 label.sk-toggleable__label-arrow:hover:before {color: black;}#sk-container-id-2 div.sk-estimator:hover label.sk-toggleable__label-arrow:before {color: black;}#sk-container-id-2 div.sk-toggleable__content {max-height: 0;max-width: 0;overflow: hidden;text-align: left;background-color: #f0f8ff;}#sk-container-id-2 div.sk-toggleable__content pre {margin: 0.2em;color: black;border-radius: 0.25em;background-color: #f0f8ff;}#sk-container-id-2 input.sk-toggleable__control:checked~div.sk-toggleable__content {max-height: 200px;max-width: 100%;overflow: auto;}#sk-container-id-2 input.sk-toggleable__control:checked~label.sk-toggleable__label-arrow:before {content: \"▾\";}#sk-container-id-2 div.sk-estimator input.sk-toggleable__control:checked~label.sk-toggleable__label {background-color: #d4ebff;}#sk-container-id-2 div.sk-label input.sk-toggleable__control:checked~label.sk-toggleable__label {background-color: #d4ebff;}#sk-container-id-2 input.sk-hidden--visually {border: 0;clip: rect(1px 1px 1px 1px);clip: rect(1px, 1px, 1px, 1px);height: 1px;margin: -1px;overflow: hidden;padding: 0;position: absolute;width: 1px;}#sk-container-id-2 div.sk-estimator {font-family: monospace;background-color: #f0f8ff;border: 1px dotted black;border-radius: 0.25em;box-sizing: border-box;margin-bottom: 0.5em;}#sk-container-id-2 div.sk-estimator:hover {background-color: #d4ebff;}#sk-container-id-2 div.sk-parallel-item::after {content: \"\";width: 100%;border-bottom: 1px solid gray;flex-grow: 1;}#sk-container-id-2 div.sk-label:hover label.sk-toggleable__label {background-color: #d4ebff;}#sk-container-id-2 div.sk-serial::before {content: \"\";position: absolute;border-left: 1px solid gray;box-sizing: border-box;top: 0;bottom: 0;left: 50%;z-index: 0;}#sk-container-id-2 div.sk-serial {display: flex;flex-direction: column;align-items: center;background-color: white;padding-right: 0.2em;padding-left: 0.2em;position: relative;}#sk-container-id-2 div.sk-item {position: relative;z-index: 1;}#sk-container-id-2 div.sk-parallel {display: flex;align-items: stretch;justify-content: center;background-color: white;position: relative;}#sk-container-id-2 div.sk-item::before, #sk-container-id-2 div.sk-parallel-item::before {content: \"\";position: absolute;border-left: 1px solid gray;box-sizing: border-box;top: 0;bottom: 0;left: 50%;z-index: -1;}#sk-container-id-2 div.sk-parallel-item {display: flex;flex-direction: column;z-index: 1;position: relative;background-color: white;}#sk-container-id-2 div.sk-parallel-item:first-child::after {align-self: flex-end;width: 50%;}#sk-container-id-2 div.sk-parallel-item:last-child::after {align-self: flex-start;width: 50%;}#sk-container-id-2 div.sk-parallel-item:only-child::after {width: 0;}#sk-container-id-2 div.sk-dashed-wrapped {border: 1px dashed gray;margin: 0 0.4em 0.5em 0.4em;box-sizing: border-box;padding-bottom: 0.4em;background-color: white;}#sk-container-id-2 div.sk-label label {font-family: monospace;font-weight: bold;display: inline-block;line-height: 1.2em;}#sk-container-id-2 div.sk-label-container {text-align: center;}#sk-container-id-2 div.sk-container {/* jupyter's `normalize.less` sets `[hidden] { display: none; }` but bootstrap.min.css set `[hidden] { display: none !important; }` so we also need the `!important` here to be able to override the default hidden behavior on the sphinx rendered scikit-learn.org. See: https://github.com/scikit-learn/scikit-learn/issues/21755 */display: inline-block !important;position: relative;}#sk-container-id-2 div.sk-text-repr-fallback {display: none;}</style><div id=\"sk-container-id-2\" class=\"sk-top-container\"><div class=\"sk-text-repr-fallback\"><pre>Pipeline(steps=[(&#x27;vectorizer_tri_grams&#x27;, TfidfVectorizer()),\n                (&#x27;naive_bayes&#x27;, RandomForestClassifier())])</pre><b>In a Jupyter environment, please rerun this cell to show the HTML representation or trust the notebook. <br />On GitHub, the HTML representation is unable to render, please try loading this page with nbviewer.org.</b></div><div class=\"sk-container\" hidden><div class=\"sk-item sk-dashed-wrapped\"><div class=\"sk-label-container\"><div class=\"sk-label sk-toggleable\"><input class=\"sk-toggleable__control sk-hidden--visually\" id=\"sk-estimator-id-4\" type=\"checkbox\" ><label for=\"sk-estimator-id-4\" class=\"sk-toggleable__label sk-toggleable__label-arrow\">Pipeline</label><div class=\"sk-toggleable__content\"><pre>Pipeline(steps=[(&#x27;vectorizer_tri_grams&#x27;, TfidfVectorizer()),\n                (&#x27;naive_bayes&#x27;, RandomForestClassifier())])</pre></div></div></div><div class=\"sk-serial\"><div class=\"sk-item\"><div class=\"sk-estimator sk-toggleable\"><input class=\"sk-toggleable__control sk-hidden--visually\" id=\"sk-estimator-id-5\" type=\"checkbox\" ><label for=\"sk-estimator-id-5\" class=\"sk-toggleable__label sk-toggleable__label-arrow\">TfidfVectorizer</label><div class=\"sk-toggleable__content\"><pre>TfidfVectorizer()</pre></div></div></div><div class=\"sk-item\"><div class=\"sk-estimator sk-toggleable\"><input class=\"sk-toggleable__control sk-hidden--visually\" id=\"sk-estimator-id-6\" type=\"checkbox\" ><label for=\"sk-estimator-id-6\" class=\"sk-toggleable__label sk-toggleable__label-arrow\">RandomForestClassifier</label><div class=\"sk-toggleable__content\"><pre>RandomForestClassifier()</pre></div></div></div></div></div></div></div>"
          },
          "metadata": {}
        }
      ]
    },
    {
      "cell_type": "code",
      "source": [
        "y_pred = clf.predict(X_test)"
      ],
      "metadata": {
        "execution": {
          "iopub.status.busy": "2023-12-04T17:36:04.726385Z",
          "iopub.execute_input": "2023-12-04T17:36:04.726803Z",
          "iopub.status.idle": "2023-12-04T17:36:07.025669Z",
          "shell.execute_reply.started": "2023-12-04T17:36:04.726771Z",
          "shell.execute_reply": "2023-12-04T17:36:07.024619Z"
        },
        "trusted": true,
        "id": "NFr-AOv56WYI"
      },
      "execution_count": null,
      "outputs": []
    },
    {
      "cell_type": "code",
      "source": [
        "print(accuracy_score(y_test, y_pred))"
      ],
      "metadata": {
        "execution": {
          "iopub.status.busy": "2023-12-04T17:36:15.839606Z",
          "iopub.execute_input": "2023-12-04T17:36:15.840013Z",
          "iopub.status.idle": "2023-12-04T17:36:15.847981Z",
          "shell.execute_reply.started": "2023-12-04T17:36:15.839982Z",
          "shell.execute_reply": "2023-12-04T17:36:15.846717Z"
        },
        "trusted": true,
        "id": "dEIDz-lL6WYJ",
        "outputId": "f5839521-4685-42d2-f422-e0f81341c5a0"
      },
      "execution_count": null,
      "outputs": [
        {
          "name": "stdout",
          "text": "0.9119594594594594\n",
          "output_type": "stream"
        }
      ]
    },
    {
      "cell_type": "code",
      "source": [
        "print(classification_report(y_test, y_pred))"
      ],
      "metadata": {
        "execution": {
          "iopub.status.busy": "2023-12-04T17:36:25.234809Z",
          "iopub.execute_input": "2023-12-04T17:36:25.235227Z",
          "iopub.status.idle": "2023-12-04T17:36:25.276036Z",
          "shell.execute_reply.started": "2023-12-04T17:36:25.235193Z",
          "shell.execute_reply": "2023-12-04T17:36:25.274920Z"
        },
        "trusted": true,
        "id": "-LCBbWlj6WYJ",
        "outputId": "9f5e5836-86d3-4844-9b44-6ff625222f4d"
      },
      "execution_count": null,
      "outputs": [
        {
          "name": "stdout",
          "text": "              precision    recall  f1-score   support\n\n           0       0.97      0.86      0.91      2575\n           1       0.92      0.93      0.93      4472\n           2       0.94      0.89      0.91      3622\n           3       0.85      0.94      0.90      4131\n\n    accuracy                           0.91     14800\n   macro avg       0.92      0.91      0.91     14800\nweighted avg       0.91      0.91      0.91     14800\n\n",
          "output_type": "stream"
        }
      ]
    },
    {
      "cell_type": "markdown",
      "source": [
        "Get text"
      ],
      "metadata": {
        "id": "U_u7muFG6WYJ"
      }
    },
    {
      "cell_type": "code",
      "source": [
        "test_df = pd.read_csv('/kaggle/input/twitter-analysis/twitter_validation.csv', names=columns)\n",
        "test_df.head()"
      ],
      "metadata": {
        "execution": {
          "iopub.status.busy": "2023-12-04T17:36:58.481094Z",
          "iopub.execute_input": "2023-12-04T17:36:58.481531Z",
          "iopub.status.idle": "2023-12-04T17:36:58.512969Z",
          "shell.execute_reply.started": "2023-12-04T17:36:58.481498Z",
          "shell.execute_reply": "2023-12-04T17:36:58.511708Z"
        },
        "trusted": true,
        "id": "6IJoh3ay6WYK",
        "outputId": "db05ccc1-3db6-4c81-8d26-f4c163a2f012"
      },
      "execution_count": null,
      "outputs": [
        {
          "execution_count": 38,
          "output_type": "execute_result",
          "data": {
            "text/plain": "     id    country       Label  \\\n0  3364   Facebook  Irrelevant   \n1   352     Amazon     Neutral   \n2  8312  Microsoft    Negative   \n3  4371      CS-GO    Negative   \n4  4433     Google     Neutral   \n\n                                                Text  \n0  I mentioned on Facebook that I was struggling ...  \n1  BBC News - Amazon boss Jeff Bezos rejects clai...  \n2  @Microsoft Why do I pay for WORD when it funct...  \n3  CSGO matchmaking is so full of closet hacking,...  \n4  Now the President is slapping Americans in the...  ",
            "text/html": "<div>\n<style scoped>\n    .dataframe tbody tr th:only-of-type {\n        vertical-align: middle;\n    }\n\n    .dataframe tbody tr th {\n        vertical-align: top;\n    }\n\n    .dataframe thead th {\n        text-align: right;\n    }\n</style>\n<table border=\"1\" class=\"dataframe\">\n  <thead>\n    <tr style=\"text-align: right;\">\n      <th></th>\n      <th>id</th>\n      <th>country</th>\n      <th>Label</th>\n      <th>Text</th>\n    </tr>\n  </thead>\n  <tbody>\n    <tr>\n      <th>0</th>\n      <td>3364</td>\n      <td>Facebook</td>\n      <td>Irrelevant</td>\n      <td>I mentioned on Facebook that I was struggling ...</td>\n    </tr>\n    <tr>\n      <th>1</th>\n      <td>352</td>\n      <td>Amazon</td>\n      <td>Neutral</td>\n      <td>BBC News - Amazon boss Jeff Bezos rejects clai...</td>\n    </tr>\n    <tr>\n      <th>2</th>\n      <td>8312</td>\n      <td>Microsoft</td>\n      <td>Negative</td>\n      <td>@Microsoft Why do I pay for WORD when it funct...</td>\n    </tr>\n    <tr>\n      <th>3</th>\n      <td>4371</td>\n      <td>CS-GO</td>\n      <td>Negative</td>\n      <td>CSGO matchmaking is so full of closet hacking,...</td>\n    </tr>\n    <tr>\n      <th>4</th>\n      <td>4433</td>\n      <td>Google</td>\n      <td>Neutral</td>\n      <td>Now the President is slapping Americans in the...</td>\n    </tr>\n  </tbody>\n</table>\n</div>"
          },
          "metadata": {}
        }
      ]
    },
    {
      "cell_type": "code",
      "source": [
        "test_text = test_df['Text'][10]\n",
        "print(f\"{test_text} ===> {test_df['Label'][10]}\")"
      ],
      "metadata": {
        "execution": {
          "iopub.status.busy": "2023-12-04T17:37:04.319776Z",
          "iopub.execute_input": "2023-12-04T17:37:04.320152Z",
          "iopub.status.idle": "2023-12-04T17:37:04.326855Z",
          "shell.execute_reply.started": "2023-12-04T17:37:04.320122Z",
          "shell.execute_reply": "2023-12-04T17:37:04.325445Z"
        },
        "trusted": true,
        "id": "hiDZurXx6WYK",
        "outputId": "94a428eb-be18-4e68-e4bf-1db6e418e6e8"
      },
      "execution_count": null,
      "outputs": [
        {
          "name": "stdout",
          "text": "The professional dota 2 scene is fucking exploding and I completely welcome it.\n\nGet the garbage out. ===> Positive\n",
          "output_type": "stream"
        }
      ]
    },
    {
      "cell_type": "code",
      "source": [
        "test_text_processed = [preprocess(test_text)]\n",
        "test_text_processed"
      ],
      "metadata": {
        "execution": {
          "iopub.status.busy": "2023-12-04T17:37:14.433101Z",
          "iopub.execute_input": "2023-12-04T17:37:14.433532Z",
          "iopub.status.idle": "2023-12-04T17:37:14.455379Z",
          "shell.execute_reply.started": "2023-12-04T17:37:14.433501Z",
          "shell.execute_reply": "2023-12-04T17:37:14.454164Z"
        },
        "trusted": true,
        "id": "YEb3dokR6WYL",
        "outputId": "82d5907e-c755-4002-d594-a2084b39b019"
      },
      "execution_count": null,
      "outputs": [
        {
          "execution_count": 40,
          "output_type": "execute_result",
          "data": {
            "text/plain": "['professional dota 2 scene fucking explode completely welcome \\n\\n garbage']"
          },
          "metadata": {}
        }
      ]
    },
    {
      "cell_type": "code",
      "source": [
        "test_text = clf.predict(test_text_processed)"
      ],
      "metadata": {
        "execution": {
          "iopub.status.busy": "2023-12-04T17:37:33.067851Z",
          "iopub.execute_input": "2023-12-04T17:37:33.068328Z",
          "iopub.status.idle": "2023-12-04T17:37:33.085002Z",
          "shell.execute_reply.started": "2023-12-04T17:37:33.068288Z",
          "shell.execute_reply": "2023-12-04T17:37:33.083509Z"
        },
        "trusted": true,
        "id": "qFR6a9bZ6WYL"
      },
      "execution_count": null,
      "outputs": []
    },
    {
      "cell_type": "code",
      "source": [
        "classes = ['Irrelevant', 'Natural', 'Negative', 'Positive']\n",
        "\n",
        "print(f\"True Label: {test_df['Label'][10]}\")\n",
        "print(f'Predict Label: {classes[test_text[0]]}')"
      ],
      "metadata": {
        "execution": {
          "iopub.status.busy": "2023-12-04T17:37:46.308986Z",
          "iopub.execute_input": "2023-12-04T17:37:46.309429Z",
          "iopub.status.idle": "2023-12-04T17:37:46.316918Z",
          "shell.execute_reply.started": "2023-12-04T17:37:46.309397Z",
          "shell.execute_reply": "2023-12-04T17:37:46.315543Z"
        },
        "trusted": true,
        "id": "ZRY1pxej6WYM",
        "outputId": "13a15612-ba69-471d-f044-943661af0010"
      },
      "execution_count": null,
      "outputs": [
        {
          "name": "stdout",
          "text": "True Label: Positive\nPredict Label: Positive\n",
          "output_type": "stream"
        }
      ]
    },
    {
      "cell_type": "markdown",
      "source": [
        "Irrelevant : 0\n",
        "Natural : 1\n",
        "Negative: 2\n",
        "Positive: 3"
      ],
      "metadata": {
        "id": "NRWC4a536WYM"
      }
    }
  ]
}